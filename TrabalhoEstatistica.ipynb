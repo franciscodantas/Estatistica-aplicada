{
  "nbformat": 4,
  "nbformat_minor": 0,
  "metadata": {
    "colab": {
      "provenance": [],
      "include_colab_link": true
    },
    "kernelspec": {
      "name": "ir",
      "display_name": "R"
    },
    "language_info": {
      "name": "R"
    }
  },
  "cells": [
    {
      "cell_type": "markdown",
      "metadata": {
        "id": "view-in-github",
        "colab_type": "text"
      },
      "source": [
        "<a href=\"https://colab.research.google.com/github/franciscodantas/Estatistica-aplicada/blob/main/TrabalhoEstatistica.ipynb\" target=\"_parent\"><img src=\"https://colab.research.google.com/assets/colab-badge.svg\" alt=\"Open In Colab\"/></a>"
      ]
    },
    {
      "cell_type": "markdown",
      "source": [
        "# 3º Estágio - Atividade Prática\n",
        "\n",
        "## Grupo\n",
        "\n",
        "\n",
        "1.   Francisco Antonio Dantas de Sousa\n",
        "2.   Lucas de Sousa Pereira\n",
        "3.   Rafael de Sousa Cavalcante\n",
        "4.   Luana Bringel Leite\n",
        "\n",
        "\n",
        "\n",
        "\n",
        "---\n",
        "\n",
        "\n"
      ],
      "metadata": {
        "id": "E0-ufC3PvRBX"
      }
    },
    {
      "cell_type": "markdown",
      "source": [
        "## Seção de Inicialização do projeto\n",
        "\n",
        "Aqui iniciamos com os import necessários para que o python consiga executar funções estatisticas."
      ],
      "metadata": {
        "id": "pxs8k6F3weP7"
      }
    },
    {
      "cell_type": "code",
      "source": [
        "data(Orange)\n",
        "print(Orange)"
      ],
      "metadata": {
        "id": "B_cy2VJf_-2B",
        "colab": {
          "base_uri": "https://localhost:8080/"
        },
        "outputId": "0d6e1c84-3f7d-4c1d-a36a-5d5ff5d96e33"
      },
      "execution_count": 38,
      "outputs": [
        {
          "output_type": "stream",
          "name": "stdout",
          "text": [
            "   Tree  age circumference\n",
            "1     1  118            30\n",
            "2     1  484            58\n",
            "3     1  664            87\n",
            "4     1 1004           115\n",
            "5     1 1231           120\n",
            "6     1 1372           142\n",
            "7     1 1582           145\n",
            "8     2  118            33\n",
            "9     2  484            69\n",
            "10    2  664           111\n",
            "11    2 1004           156\n",
            "12    2 1231           172\n",
            "13    2 1372           203\n",
            "14    2 1582           203\n",
            "15    3  118            30\n",
            "16    3  484            51\n",
            "17    3  664            75\n",
            "18    3 1004           108\n",
            "19    3 1231           115\n",
            "20    3 1372           139\n",
            "21    3 1582           140\n",
            "22    4  118            32\n",
            "23    4  484            62\n",
            "24    4  664           112\n",
            "25    4 1004           167\n",
            "26    4 1231           179\n",
            "27    4 1372           209\n",
            "28    4 1582           214\n",
            "29    5  118            30\n",
            "30    5  484            49\n",
            "31    5  664            81\n",
            "32    5 1004           125\n",
            "33    5 1231           142\n",
            "34    5 1372           174\n",
            "35    5 1582           177\n"
          ]
        }
      ]
    },
    {
      "cell_type": "markdown",
      "source": [
        "# Definições iniciais\n",
        "\n",
        "Para a realização dessa modelagem iremos utilizar da base de dado UMABASEAQUI(Fonte, ano) que tem como variável resposta Y que representa ALGUMACOISA e X que é uma variavel de alguma outra coisa que eu esqueci o nome e iremos tentar por meio dessa modelagem verificar a relação presente entre elas."
      ],
      "metadata": {
        "id": "ypx_C7jtxekl"
      }
    },
    {
      "cell_type": "code",
      "source": [
        "help(Orange)"
      ],
      "metadata": {
        "id": "qSdl0LZDdkgp"
      },
      "execution_count": 39,
      "outputs": []
    },
    {
      "cell_type": "markdown",
      "source": [
        "# Etapa 1: Estatística Descritiva"
      ],
      "metadata": {
        "id": "HxSjGfydyia7"
      }
    },
    {
      "cell_type": "code",
      "source": [
        "mean(Orange$age)"
      ],
      "metadata": {
        "colab": {
          "base_uri": "https://localhost:8080/",
          "height": 34
        },
        "id": "Fd4b8VbrbgoI",
        "outputId": "b3c73781-0a05-4f51-ca05-661566c69b22"
      },
      "execution_count": 44,
      "outputs": [
        {
          "output_type": "display_data",
          "data": {
            "text/html": [
              "922.142857142857"
            ],
            "text/markdown": "922.142857142857",
            "text/latex": "922.142857142857",
            "text/plain": [
              "[1] 922.1429"
            ]
          },
          "metadata": {}
        }
      ]
    },
    {
      "cell_type": "code",
      "source": [
        "cor(Orange$age, Orange$circumference)"
      ],
      "metadata": {
        "colab": {
          "base_uri": "https://localhost:8080/",
          "height": 34
        },
        "id": "lTG6FdVgXsj6",
        "outputId": "3d209f19-e213-4c11-d084-c6c8795e801b"
      },
      "execution_count": 24,
      "outputs": [
        {
          "output_type": "display_data",
          "data": {
            "text/html": [
              "0.913518852891591"
            ],
            "text/markdown": "0.913518852891591",
            "text/latex": "0.913518852891591",
            "text/plain": [
              "[1] 0.9135189"
            ]
          },
          "metadata": {}
        }
      ]
    },
    {
      "cell_type": "code",
      "source": [
        "boxplot(Orange$age, main=\"Boxplot de Peso\", ylab=\"MPG\")"
      ],
      "metadata": {
        "colab": {
          "base_uri": "https://localhost:8080/",
          "height": 437
        },
        "id": "tqNuYQ7tWjKQ",
        "outputId": "48f4d7b3-2b9b-49bf-f6bc-fa63975a90ab"
      },
      "execution_count": 21,
      "outputs": [
        {
          "output_type": "display_data",
          "data": {
            "text/plain": [
              "Plot with title “Boxplot de Peso”"
            ],
            "image/png": "[encoded data removed]"
          },
          "metadata": {
            "image/png": {
              "width": 420,
              "height": 420
            }
          }
        }
      ]
    },
    {
      "cell_type": "code",
      "source": [
        "boxplot(Orange$circumference, main=\"Boxplot de Peso\", ylab=\"MPG\")"
      ],
      "metadata": {
        "colab": {
          "base_uri": "https://localhost:8080/",
          "height": 437
        },
        "id": "yLlMgaqAarbw",
        "outputId": "4ff2e89f-b92d-4057-ef33-441da858f2f6"
      },
      "execution_count": 22,
      "outputs": [
        {
          "output_type": "display_data",
          "data": {
            "text/plain": [
              "Plot with title “Boxplot de Peso”"
            ],
            "image/png": "[encoded data removed]"
          },
          "metadata": {
            "image/png": {
              "width": 420,
              "height": 420
            }
          }
        }
      ]
    },
    {
      "cell_type": "markdown",
      "source": [
        "# Etapa 2: Estimação pontual e por intervalo"
      ],
      "metadata": {
        "id": "XN8s1LvJyytD"
      }
    },
    {
      "cell_type": "markdown",
      "source": [
        "# Etapa 3: Testes de hipóteses"
      ],
      "metadata": {
        "id": "mMSTOFQFyzKh"
      }
    },
    {
      "cell_type": "markdown",
      "source": [
        "# Etapa 4: Análise de aderência e associação"
      ],
      "metadata": {
        "id": "SJXp971uy2v6"
      }
    },
    {
      "cell_type": "markdown",
      "source": [
        "# Etapa 5: Análise de regressão linear"
      ],
      "metadata": {
        "id": "hjim9SCky3dx"
      }
    }
  ]
}